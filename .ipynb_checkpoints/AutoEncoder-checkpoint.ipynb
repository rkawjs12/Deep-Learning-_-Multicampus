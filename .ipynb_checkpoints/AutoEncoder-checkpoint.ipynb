{
 "cells": [
  {
   "cell_type": "code",
   "execution_count": 1,
   "metadata": {},
   "outputs": [
    {
     "name": "stderr",
     "output_type": "stream",
     "text": [
      "Using TensorFlow backend.\n"
     ]
    }
   ],
   "source": [
    "from keras.models import Model\n",
    "from keras.layers import Input, Conv2D, Flatten, Dense, Reshape, Conv2DTranspose"
   ]
  },
  {
   "cell_type": "code",
   "execution_count": null,
   "metadata": {},
   "outputs": [],
   "source": [
    "input = input((28,28,1))\n",
    "\n",
    "x = Conv2D(32,(3,3), strides = 2, padding = 'same', activation = 'relu')(input)\n",
    "#Conv2D(32,(3,3)) 여기에서 32는 필터의 갯수이다.\n",
    "x = Conv2D(64,(3,3), strides = 2, padding = 'same', activation = 'relu')(x)\n",
    "x = Conv2D(128,(3,3), strides = 2, activation = 'relu')(x)\n",
    "\n",
    "x = Flatten()(x)\n",
    "latent = Dense(10)(x)\n",
    "#padding은 테두리를 0으로 두르는 것\n",
    "#padding의 방법도 여러가지가 있다. 평균값으로 채우는지, 0으로 채우는지 등등 그런데 이건 별거가 아니다.\n"
   ]
  },
  {
   "cell_type": "markdown",
   "metadata": {},
   "source": [
    "인코더의 출력은 10개의 벡터값이다.\n",
    "이 값을 잠재공간벡터(latent vector)라고 한다.\n",
    "즉, 28*28*1의 이미지를 10개의 숫자로 축약하였다."
   ]
  },
  {
   "cell_type": "code",
   "execution_count": null,
   "metadata": {},
   "outputs": [],
   "source": [
    "encoder = Model(input, latent)\n",
    "\n",
    "endcoder.summary()"
   ]
  },
  {
   "cell_type": "code",
   "execution_count": null,
   "metadata": {},
   "outputs": [],
   "source": [
    "X_train = X_train.reshape(-1)"
   ]
  },
  {
   "cell_type": "markdown",
   "metadata": {},
   "source": [
    "Conv2DTranspose에서 strides = 2를 적용하면 크기가 2배가 커진다.\n",
    "Conv2DTranspose에서 padding을 적용하지 않으면 크기가 커진다 라고 생각하면 된다. \n",
    "즉 Conv2D와 완전히 반대의 개념이라고 생각하면 된다.\n"
   ]
  },
  {
   "cell_type": "code",
   "execution_count": null,
   "metadata": {},
   "outputs": [],
   "source": []
  },
  {
   "cell_type": "code",
   "execution_count": null,
   "metadata": {},
   "outputs": [],
   "source": []
  },
  {
   "cell_type": "code",
   "execution_count": null,
   "metadata": {},
   "outputs": [],
   "source": []
  }
 ],
 "metadata": {
  "kernelspec": {
   "display_name": "Python 3",
   "language": "python",
   "name": "python3"
  },
  "language_info": {
   "codemirror_mode": {
    "name": "ipython",
    "version": 3
   },
   "file_extension": ".py",
   "mimetype": "text/x-python",
   "name": "python",
   "nbconvert_exporter": "python",
   "pygments_lexer": "ipython3",
   "version": "3.7.3"
  }
 },
 "nbformat": 4,
 "nbformat_minor": 2
}
