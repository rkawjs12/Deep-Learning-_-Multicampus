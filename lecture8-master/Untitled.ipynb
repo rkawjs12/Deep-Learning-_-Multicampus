{
 "cells": [
  {
   "cell_type": "code",
   "execution_count": 2,
   "metadata": {},
   "outputs": [],
   "source": [
    "import numpy as np\n",
    "import pandas as pd"
   ]
  },
  {
   "cell_type": "code",
   "execution_count": 5,
   "metadata": {},
   "outputs": [],
   "source": [
    "def valid_action(s, a):\n",
    "    if s//5==0 and a==0: return False\n",
    "    if s//5==4 and a==1: return False\n",
    "    if s%5==0 and a==2: return False\n",
    "    if s%5==4 and a==3: return False\n",
    "    return True"
   ]
  },
  {
   "cell_type": "code",
   "execution_count": 6,
   "metadata": {},
   "outputs": [],
   "source": [
    "Q =np.zeros([25,4])\n",
    "Qs = []\n",
    "gamma = 0.99\n",
    "\n",
    "s = 0\n",
    "ds = [-5,5,-1,1] #상/하/좌/우 이동 변이값\n",
    "\n",
    "for epoch in range(100):\n",
    "    for s in range(25):\n",
    "        if s == 24: # the last(goal) cell\n",
    "            Q[s] = 1 # 마지막 cell 에서는  행동 4개 값을 모두 1(보상값)으로 준다.\n",
    "            continue\n",
    "        \n",
    "        for a in range(4):\n",
    "            if not valid_action(s, a): continue\n",
    "            s_new = s + ds[a] # s` 즉, 다음번 상태값\n",
    "            Q[s,a] = 0 + gamma*np.max(Q[s_new])"
   ]
  },
  {
   "cell_type": "code",
   "execution_count": null,
   "metadata": {},
   "outputs": [],
   "source": []
  }
 ],
 "metadata": {
  "kernelspec": {
   "display_name": "Python 3",
   "language": "python",
   "name": "python3"
  },
  "language_info": {
   "codemirror_mode": {
    "name": "ipython",
    "version": 3
   },
   "file_extension": ".py",
   "mimetype": "text/x-python",
   "name": "python",
   "nbconvert_exporter": "python",
   "pygments_lexer": "ipython3",
   "version": "3.7.3"
  }
 },
 "nbformat": 4,
 "nbformat_minor": 2
}
