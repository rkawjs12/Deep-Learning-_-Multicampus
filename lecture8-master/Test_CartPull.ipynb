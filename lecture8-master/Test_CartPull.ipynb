{
 "cells": [
  {
   "cell_type": "code",
   "execution_count": 1,
   "metadata": {},
   "outputs": [
    {
     "name": "stdout",
     "output_type": "stream",
     "text": [
      "100 [-0.0548086   0.39318651 -0.19290797 -1.51309771] 1.0 False {}\n",
      "200 [ 0.04944493  0.02713672 -0.02309058  0.01835325] 1.0 False {}\n",
      "300 [ 0.00724534  0.40253073 -0.0315956  -0.53986698] 1.0 False {}\n",
      "400 [ 0.00558298  0.18719429  0.07341046 -0.01404265] 1.0 False {}\n",
      "500 [-0.25270156 -1.56090205  0.05184814  1.52180382] 1.0 False {}\n",
      "600 [-0.01632737  0.58148965  0.00880543 -0.8652589 ] 1.0 False {}\n",
      "700 [-0.00285941 -0.01946258 -0.06817029 -0.0952997 ] 1.0 False {}\n",
      "800 [-0.11366835 -0.21743122  0.11695419  0.45095007] 1.0 False {}\n",
      "900 [-0.0393494   0.23077255  0.10567043  0.04355708] 1.0 False {}\n",
      "1000 [-0.01648457  0.61288158  0.01374608 -0.85497722] 1.0 False {}\n"
     ]
    }
   ],
   "source": [
    "import gym\n",
    "\n",
    "env = gym.make(\"CartPole-v0\")\n",
    "observation = env.reset()\n",
    "\n",
    "for i in range(1000):\n",
    "    env.render()\n",
    "    action = env.action_space.sample() # your agent here (this takes random actions)\n",
    "    observation, reward, done, info = env.step(action)\n",
    "\n",
    "    if (i+1)%100 == 0:\n",
    "        print(i+1, observation, reward, done, info)\n",
    "        \n",
    "    if done:\n",
    "        observation = env.reset()\n",
    "\n",
    "env.close()"
   ]
  },
  {
   "cell_type": "code",
   "execution_count": 2,
   "metadata": {},
   "outputs": [],
   "source": [
    "import numpy as np\n",
    "import matplotlib.pyplot as plt\n",
    "import gym"
   ]
  },
  {
   "cell_type": "code",
   "execution_count": 3,
   "metadata": {},
   "outputs": [
    {
     "name": "stderr",
     "output_type": "stream",
     "text": [
      "Using TensorFlow backend.\n"
     ]
    }
   ],
   "source": [
    "from keras.models import Sequential\n",
    "from keras.layers import Dense\n",
    "from keras.optimizers import RMSprop"
   ]
  },
  {
   "cell_type": "code",
   "execution_count": 4,
   "metadata": {},
   "outputs": [
    {
     "name": "stdout",
     "output_type": "stream",
     "text": [
      "WARNING:tensorflow:From C:\\Users\\multicampus\\Anaconda3\\lib\\site-packages\\keras\\backend\\tensorflow_backend.py:66: The name tf.get_default_graph is deprecated. Please use tf.compat.v1.get_default_graph instead.\n",
      "\n",
      "WARNING:tensorflow:From C:\\Users\\multicampus\\Anaconda3\\lib\\site-packages\\keras\\backend\\tensorflow_backend.py:541: The name tf.placeholder is deprecated. Please use tf.compat.v1.placeholder instead.\n",
      "\n",
      "WARNING:tensorflow:From C:\\Users\\multicampus\\Anaconda3\\lib\\site-packages\\keras\\backend\\tensorflow_backend.py:4432: The name tf.random_uniform is deprecated. Please use tf.random.uniform instead.\n",
      "\n",
      "WARNING:tensorflow:From C:\\Users\\multicampus\\Anaconda3\\lib\\site-packages\\keras\\optimizers.py:793: The name tf.train.Optimizer is deprecated. Please use tf.compat.v1.train.Optimizer instead.\n",
      "\n"
     ]
    }
   ],
   "source": [
    "model = Sequential()\n",
    "model.add(Dense(16, activation='relu', input_shape=(4,)))\n",
    "model.add(Dense(16, activation='relu'))\n",
    "model.add(Dense(2, activation='linear')) # 0 or 1\n",
    "\n",
    "model.compile(loss='mse', optimizer=RMSprop(lr=0.001)) # lr=0.001 (default)"
   ]
  },
  {
   "cell_type": "code",
   "execution_count": 5,
   "metadata": {},
   "outputs": [
    {
     "name": "stdout",
     "output_type": "stream",
     "text": [
      "Model: \"sequential_1\"\n",
      "_________________________________________________________________\n",
      "Layer (type)                 Output Shape              Param #   \n",
      "=================================================================\n",
      "dense_1 (Dense)              (None, 16)                80        \n",
      "_________________________________________________________________\n",
      "dense_2 (Dense)              (None, 16)                272       \n",
      "_________________________________________________________________\n",
      "dense_3 (Dense)              (None, 2)                 34        \n",
      "=================================================================\n",
      "Total params: 386\n",
      "Trainable params: 386\n",
      "Non-trainable params: 0\n",
      "_________________________________________________________________\n"
     ]
    }
   ],
   "source": [
    "model.summary()"
   ]
  },
  {
   "cell_type": "code",
   "execution_count": 6,
   "metadata": {},
   "outputs": [
    {
     "name": "stdout",
     "output_type": "stream",
     "text": [
      "WARNING:tensorflow:From C:\\Users\\multicampus\\Anaconda3\\lib\\site-packages\\keras\\backend\\tensorflow_backend.py:3005: The name tf.Session is deprecated. Please use tf.compat.v1.Session instead.\n",
      "\n",
      "WARNING:tensorflow:From C:\\Users\\multicampus\\Anaconda3\\lib\\site-packages\\keras\\backend\\tensorflow_backend.py:190: The name tf.get_default_session is deprecated. Please use tf.compat.v1.get_default_session instead.\n",
      "\n"
     ]
    },
    {
     "data": {
      "text/plain": [
       "array([[-0.27571806, -0.28751948]], dtype=float32)"
      ]
     },
     "execution_count": 6,
     "metadata": {},
     "output_type": "execute_result"
    }
   ],
   "source": [
    "s = np.array([1,0,1,0])\n",
    "\n",
    "model.predict(s.reshape(1,4))"
   ]
  },
  {
   "cell_type": "code",
   "execution_count": 7,
   "metadata": {},
   "outputs": [],
   "source": [
    "ws = model.get_weights()"
   ]
  },
  {
   "cell_type": "code",
   "execution_count": 8,
   "metadata": {},
   "outputs": [
    {
     "data": {
      "text/plain": [
       "array([[-0.23826581,  0.35165077, -0.365825  , -0.06792012,  0.3650155 ,\n",
       "        -0.22238731,  0.41860706, -0.24149823,  0.527645  ,  0.41932738,\n",
       "        -0.23716784, -0.3931693 , -0.39650178,  0.40512025,  0.33194542,\n",
       "         0.31915754],\n",
       "       [ 0.45903003, -0.24568841, -0.25287083, -0.05292517, -0.20047936,\n",
       "        -0.17709172,  0.21853787,  0.30332136, -0.27765092, -0.13428703,\n",
       "        -0.17099458, -0.36437625, -0.10997406, -0.24482927, -0.4709733 ,\n",
       "        -0.01303637],\n",
       "       [ 0.09121442, -0.01243204, -0.52219146,  0.27278394, -0.25647387,\n",
       "        -0.31761062,  0.03920138,  0.17807871, -0.522805  , -0.14278567,\n",
       "        -0.06314155,  0.29826063, -0.07930341,  0.28068292, -0.4844106 ,\n",
       "         0.16633785],\n",
       "       [ 0.1073879 , -0.0386017 , -0.28884995,  0.00825453,  0.48903704,\n",
       "         0.33936906, -0.12907726, -0.18355578,  0.14836812,  0.1305657 ,\n",
       "         0.02387291, -0.39183798,  0.5156621 ,  0.20733583, -0.529648  ,\n",
       "        -0.28325403]], dtype=float32)"
      ]
     },
     "execution_count": 8,
     "metadata": {},
     "output_type": "execute_result"
    }
   ],
   "source": [
    "ws[0]"
   ]
  },
  {
   "cell_type": "code",
   "execution_count": 9,
   "metadata": {},
   "outputs": [],
   "source": [
    "import collections\n",
    "\n",
    "memory = collections.deque(maxlen = 10000)"
   ]
  },
  {
   "cell_type": "code",
   "execution_count": 10,
   "metadata": {},
   "outputs": [],
   "source": [
    "s = env.reset()"
   ]
  },
  {
   "cell_type": "code",
   "execution_count": 11,
   "metadata": {},
   "outputs": [],
   "source": [
    "for i in range(32):\n",
    "    action = env.action_space.sample() # np.random.randint(2)\n",
    "    s2, r, done, _ = env.step(action)\n",
    "    \n",
    "    memory.append([s, action, r, done, s2])\n",
    "    \n",
    "    s = env.reset() if done else s2 # done 이면 리셋"
   ]
  },
  {
   "cell_type": "code",
   "execution_count": 12,
   "metadata": {},
   "outputs": [
    {
     "data": {
      "text/plain": [
       "32"
      ]
     },
     "execution_count": 12,
     "metadata": {},
     "output_type": "execute_result"
    }
   ],
   "source": [
    "len(memory)"
   ]
  },
  {
   "cell_type": "code",
   "execution_count": 13,
   "metadata": {},
   "outputs": [
    {
     "data": {
      "text/plain": [
       "[array([ 0.02756074, -0.00044016,  0.04895451, -0.0118472 ]),\n",
       " 1,\n",
       " 1.0,\n",
       " False,\n",
       " array([ 0.02755194,  0.19394678,  0.04871757, -0.2886914 ])]"
      ]
     },
     "metadata": {},
     "output_type": "display_data"
    },
    {
     "data": {
      "text/plain": [
       "[array([-0.02189662, -0.80403361,  0.05297855,  1.11757253]),\n",
       " 1,\n",
       " 1.0,\n",
       " False,\n",
       " array([-0.03797729, -0.60964538,  0.07533   ,  0.8419677 ])]"
      ]
     },
     "metadata": {},
     "output_type": "display_data"
    }
   ],
   "source": [
    "display(memory[0], memory[-1])"
   ]
  },
  {
   "cell_type": "code",
   "execution_count": 14,
   "metadata": {},
   "outputs": [],
   "source": [
    "epsilon = 1.0 # 처음에는 탐험만 수행한다. (랜덤 행동)\n",
    "gamma = 0.99 # 감쇠율 (discount factor, 미래 보상을 얼마나 중요시할 지를 결정)\n",
    "returns = [] # 에피소드 당 총보상값을 저장한다\n",
    "count = 0"
   ]
  },
  {
   "cell_type": "code",
   "execution_count": 15,
   "metadata": {},
   "outputs": [
    {
     "name": "stdout",
     "output_type": "stream",
     "text": [
      "Episode: 1, Reward: 30, Epsilon: 0.99713\n",
      "Episode: 2, Reward: 14, Epsilon: 0.99575\n",
      "Episode: 3, Reward: 26, Epsilon: 0.99319\n",
      "Episode: 4, Reward: 11, Epsilon: 0.99211\n",
      "Episode: 5, Reward: 15, Epsilon: 0.99064\n",
      "Episode: 6, Reward: 22, Epsilon: 0.98848\n",
      "Episode: 7, Reward: 10, Epsilon: 0.98751\n",
      "Episode: 8, Reward: 13, Epsilon: 0.98624\n",
      "Episode: 9, Reward: 24, Epsilon: 0.98390\n",
      "Episode: 10, Reward: 50, Epsilon: 0.97904\n",
      "Episode: 11, Reward: 24, Epsilon: 0.97672\n",
      "Episode: 12, Reward: 23, Epsilon: 0.97450\n",
      "Episode: 13, Reward: 31, Epsilon: 0.97151\n",
      "Episode: 14, Reward: 17, Epsilon: 0.96988\n",
      "Episode: 15, Reward: 28, Epsilon: 0.96719\n",
      "Episode: 16, Reward: 22, Epsilon: 0.96509\n",
      "Episode: 17, Reward: 11, Epsilon: 0.96404\n",
      "Episode: 18, Reward: 14, Epsilon: 0.96270\n",
      "Episode: 19, Reward: 16, Epsilon: 0.96118\n",
      "Episode: 20, Reward: 44, Epsilon: 0.95701\n",
      "Episode: 21, Reward: 17, Epsilon: 0.95540\n",
      "Episode: 22, Reward: 49, Epsilon: 0.95078\n",
      "Episode: 23, Reward: 13, Epsilon: 0.94955\n",
      "Episode: 24, Reward: 14, Epsilon: 0.94824\n",
      "Episode: 25, Reward: 22, Epsilon: 0.94618\n",
      "Episode: 26, Reward: 12, Epsilon: 0.94505\n",
      "Episode: 27, Reward: 31, Epsilon: 0.94216\n",
      "Episode: 28, Reward: 24, Epsilon: 0.93993\n",
      "Episode: 29, Reward: 30, Epsilon: 0.93714\n",
      "Episode: 30, Reward: 9, Epsilon: 0.93631\n",
      "Episode: 31, Reward: 37, Epsilon: 0.93289\n",
      "Episode: 32, Reward: 22, Epsilon: 0.93086\n",
      "Episode: 33, Reward: 19, Epsilon: 0.92911\n",
      "Episode: 34, Reward: 11, Epsilon: 0.92810\n",
      "Episode: 35, Reward: 24, Epsilon: 0.92590\n",
      "Episode: 36, Reward: 12, Epsilon: 0.92480\n",
      "Episode: 37, Reward: 11, Epsilon: 0.92379\n",
      "Episode: 38, Reward: 25, Epsilon: 0.92151\n",
      "Episode: 39, Reward: 39, Epsilon: 0.91796\n",
      "Episode: 40, Reward: 9, Epsilon: 0.91715\n",
      "Episode: 41, Reward: 25, Epsilon: 0.91488\n",
      "Episode: 42, Reward: 18, Epsilon: 0.91326\n",
      "Episode: 43, Reward: 23, Epsilon: 0.91118\n",
      "Episode: 44, Reward: 23, Epsilon: 0.90911\n",
      "Episode: 45, Reward: 23, Epsilon: 0.90704\n",
      "Episode: 46, Reward: 10, Epsilon: 0.90615\n",
      "Episode: 47, Reward: 31, Epsilon: 0.90337\n",
      "Episode: 48, Reward: 26, Epsilon: 0.90105\n",
      "Episode: 49, Reward: 17, Epsilon: 0.89954\n",
      "Episode: 50, Reward: 38, Epsilon: 0.89617\n",
      "Episode: 51, Reward: 10, Epsilon: 0.89528\n",
      "Episode: 52, Reward: 19, Epsilon: 0.89360\n",
      "Episode: 53, Reward: 13, Epsilon: 0.89245\n",
      "Episode: 54, Reward: 16, Epsilon: 0.89104\n",
      "Episode: 55, Reward: 49, Epsilon: 0.88674\n",
      "Episode: 56, Reward: 36, Epsilon: 0.88358\n",
      "Episode: 57, Reward: 23, Epsilon: 0.88158\n",
      "Episode: 58, Reward: 49, Epsilon: 0.87732\n",
      "Episode: 59, Reward: 34, Epsilon: 0.87437\n",
      "Episode: 60, Reward: 32, Epsilon: 0.87161\n",
      "Episode: 61, Reward: 11, Epsilon: 0.87066\n",
      "Episode: 62, Reward: 11, Epsilon: 0.86972\n",
      "Episode: 63, Reward: 15, Epsilon: 0.86843\n",
      "Episode: 64, Reward: 29, Epsilon: 0.86594\n",
      "Episode: 65, Reward: 21, Epsilon: 0.86415\n",
      "Episode: 66, Reward: 16, Epsilon: 0.86278\n",
      "Episode: 67, Reward: 30, Epsilon: 0.86023\n",
      "Episode: 68, Reward: 24, Epsilon: 0.85819\n",
      "Episode: 69, Reward: 47, Epsilon: 0.85421\n",
      "Episode: 70, Reward: 18, Epsilon: 0.85269\n",
      "Episode: 71, Reward: 9, Epsilon: 0.85194\n",
      "Episode: 72, Reward: 8, Epsilon: 0.85126\n",
      "Episode: 73, Reward: 20, Epsilon: 0.84958\n",
      "Episode: 74, Reward: 14, Epsilon: 0.84841\n",
      "Episode: 75, Reward: 18, Epsilon: 0.84690\n",
      "Episode: 76, Reward: 35, Epsilon: 0.84398\n",
      "Episode: 77, Reward: 14, Epsilon: 0.84281\n",
      "Episode: 78, Reward: 78, Epsilon: 0.83634\n",
      "Episode: 79, Reward: 22, Epsilon: 0.83452\n",
      "Episode: 80, Reward: 52, Epsilon: 0.83025\n",
      "Episode: 81, Reward: 23, Epsilon: 0.82836\n",
      "Episode: 82, Reward: 32, Epsilon: 0.82575\n",
      "Episode: 83, Reward: 24, Epsilon: 0.82379\n",
      "Episode: 84, Reward: 11, Epsilon: 0.82290\n",
      "Episode: 85, Reward: 32, Epsilon: 0.82030\n",
      "Episode: 86, Reward: 24, Epsilon: 0.81836\n",
      "Episode: 87, Reward: 15, Epsilon: 0.81715\n",
      "Episode: 88, Reward: 14, Epsilon: 0.81602\n",
      "Episode: 89, Reward: 12, Epsilon: 0.81505\n",
      "Episode: 90, Reward: 23, Epsilon: 0.81320\n",
      "Episode: 91, Reward: 9, Epsilon: 0.81248\n",
      "Episode: 92, Reward: 27, Epsilon: 0.81031\n",
      "Episode: 93, Reward: 9, Epsilon: 0.80959\n",
      "Episode: 94, Reward: 20, Epsilon: 0.80800\n",
      "Episode: 95, Reward: 12, Epsilon: 0.80704\n",
      "Episode: 96, Reward: 25, Epsilon: 0.80505\n",
      "Episode: 97, Reward: 19, Epsilon: 0.80354\n",
      "Episode: 98, Reward: 11, Epsilon: 0.80267\n",
      "Episode: 99, Reward: 19, Epsilon: 0.80116\n",
      "Episode: 100, Reward: 59, Epsilon: 0.79651\n",
      "Episode: 101, Reward: 10, Epsilon: 0.79572\n",
      "Episode: 102, Reward: 23, Epsilon: 0.79392\n",
      "Episode: 103, Reward: 21, Epsilon: 0.79227\n",
      "Episode: 104, Reward: 25, Epsilon: 0.79032\n",
      "Episode: 105, Reward: 17, Epsilon: 0.78900\n",
      "Episode: 106, Reward: 25, Epsilon: 0.78705\n",
      "Episode: 107, Reward: 22, Epsilon: 0.78534\n",
      "Episode: 108, Reward: 21, Epsilon: 0.78372\n",
      "Episode: 109, Reward: 82, Epsilon: 0.77740\n",
      "Episode: 110, Reward: 22, Epsilon: 0.77571\n",
      "Episode: 111, Reward: 32, Epsilon: 0.77326\n",
      "Episode: 112, Reward: 15, Epsilon: 0.77212\n",
      "Episode: 113, Reward: 24, Epsilon: 0.77029\n",
      "Episode: 114, Reward: 32, Epsilon: 0.76786\n",
      "Episode: 115, Reward: 84, Epsilon: 0.76153\n",
      "Episode: 116, Reward: 36, Epsilon: 0.75882\n",
      "Episode: 117, Reward: 27, Epsilon: 0.75681\n",
      "Episode: 118, Reward: 23, Epsilon: 0.75509\n",
      "Episode: 119, Reward: 28, Epsilon: 0.75301\n",
      "Episode: 120, Reward: 13, Epsilon: 0.75204\n",
      "Episode: 121, Reward: 46, Epsilon: 0.74864\n",
      "Episode: 122, Reward: 25, Epsilon: 0.74679\n",
      "Episode: 123, Reward: 23, Epsilon: 0.74510\n",
      "Episode: 124, Reward: 15, Epsilon: 0.74400\n",
      "Episode: 125, Reward: 32, Epsilon: 0.74165\n",
      "Episode: 126, Reward: 40, Epsilon: 0.73873\n",
      "Episode: 127, Reward: 55, Epsilon: 0.73473\n",
      "Episode: 128, Reward: 20, Epsilon: 0.73329\n",
      "Episode: 129, Reward: 22, Epsilon: 0.73170\n",
      "Episode: 130, Reward: 28, Epsilon: 0.72968\n",
      "Episode: 131, Reward: 22, Epsilon: 0.72810\n",
      "Episode: 132, Reward: 16, Epsilon: 0.72695\n",
      "Episode: 133, Reward: 31, Epsilon: 0.72473\n",
      "Episode: 134, Reward: 10, Epsilon: 0.72402\n",
      "Episode: 135, Reward: 17, Epsilon: 0.72280\n",
      "Episode: 136, Reward: 31, Epsilon: 0.72060\n",
      "Episode: 137, Reward: 26, Epsilon: 0.71875\n",
      "Episode: 138, Reward: 26, Epsilon: 0.71691\n",
      "Episode: 139, Reward: 26, Epsilon: 0.71508\n",
      "Episode: 140, Reward: 23, Epsilon: 0.71346\n",
      "Episode: 141, Reward: 30, Epsilon: 0.71135\n",
      "Episode: 142, Reward: 17, Epsilon: 0.71016\n",
      "Episode: 143, Reward: 57, Epsilon: 0.70618\n",
      "Episode: 144, Reward: 39, Epsilon: 0.70347\n",
      "Episode: 145, Reward: 33, Epsilon: 0.70118\n",
      "Episode: 146, Reward: 27, Epsilon: 0.69932\n",
      "Episode: 147, Reward: 56, Epsilon: 0.69547\n",
      "Episode: 148, Reward: 31, Epsilon: 0.69335\n",
      "Episode: 149, Reward: 21, Epsilon: 0.69191\n",
      "Episode: 150, Reward: 39, Epsilon: 0.68926\n",
      "Episode: 151, Reward: 36, Epsilon: 0.68682\n",
      "Episode: 152, Reward: 24, Epsilon: 0.68520\n",
      "Episode: 153, Reward: 35, Epsilon: 0.68284\n",
      "Episode: 154, Reward: 57, Epsilon: 0.67901\n",
      "Episode: 155, Reward: 15, Epsilon: 0.67801\n",
      "Episode: 156, Reward: 33, Epsilon: 0.67581\n",
      "Episode: 157, Reward: 21, Epsilon: 0.67441\n",
      "Episode: 158, Reward: 54, Epsilon: 0.67084\n",
      "Episode: 159, Reward: 45, Epsilon: 0.66787\n",
      "Episode: 160, Reward: 70, Epsilon: 0.66328\n",
      "Episode: 161, Reward: 9, Epsilon: 0.66269\n",
      "Episode: 162, Reward: 75, Epsilon: 0.65781\n",
      "Episode: 163, Reward: 28, Epsilon: 0.65600\n",
      "Episode: 164, Reward: 34, Epsilon: 0.65381\n",
      "Episode: 165, Reward: 32, Epsilon: 0.65175\n",
      "Episode: 166, Reward: 17, Epsilon: 0.65066\n",
      "Episode: 167, Reward: 51, Epsilon: 0.64740\n",
      "Episode: 168, Reward: 24, Epsilon: 0.64588\n",
      "Episode: 169, Reward: 78, Epsilon: 0.64094\n",
      "Episode: 170, Reward: 68, Epsilon: 0.63666\n",
      "Episode: 171, Reward: 119, Epsilon: 0.62925\n",
      "Episode: 172, Reward: 14, Epsilon: 0.62838\n",
      "Episode: 173, Reward: 73, Epsilon: 0.62388\n",
      "Episode: 174, Reward: 114, Epsilon: 0.61692\n",
      "Episode: 175, Reward: 29, Epsilon: 0.61517\n",
      "Episode: 176, Reward: 95, Epsilon: 0.60945\n",
      "Episode: 177, Reward: 37, Epsilon: 0.60723\n",
      "Episode: 178, Reward: 55, Epsilon: 0.60396\n",
      "Episode: 179, Reward: 58, Epsilon: 0.60052\n",
      "Episode: 180, Reward: 63, Epsilon: 0.59681\n",
      "Episode: 181, Reward: 90, Epsilon: 0.59155\n",
      "Episode: 182, Reward: 111, Epsilon: 0.58514\n",
      "Episode: 183, Reward: 48, Epsilon: 0.58238\n",
      "Episode: 184, Reward: 75, Epsilon: 0.57810\n",
      "Episode: 185, Reward: 60, Epsilon: 0.57471\n",
      "Episode: 186, Reward: 132, Epsilon: 0.56730\n",
      "Episode: 187, Reward: 86, Epsilon: 0.56253\n",
      "Episode: 188, Reward: 130, Epsilon: 0.55539\n",
      "Episode: 189, Reward: 158, Epsilon: 0.54684\n",
      "Episode: 190, Reward: 107, Epsilon: 0.54113\n",
      "Episode: 191, Reward: 144, Epsilon: 0.53354\n",
      "Episode: 192, Reward: 74, Epsilon: 0.52968\n",
      "Episode: 193, Reward: 61, Epsilon: 0.52652\n",
      "Episode: 194, Reward: 147, Epsilon: 0.51898\n"
     ]
    },
    {
     "name": "stdout",
     "output_type": "stream",
     "text": [
      "Episode: 195, Reward: 119, Epsilon: 0.51296\n",
      "Episode: 196, Reward: 72, Epsilon: 0.50935\n",
      "Episode: 197, Reward: 111, Epsilon: 0.50384\n",
      "Episode: 198, Reward: 134, Epsilon: 0.49726\n",
      "Episode: 199, Reward: 90, Epsilon: 0.49290\n",
      "Episode: 200, Reward: 164, Epsilon: 0.48504\n",
      "Episode: 201, Reward: 139, Epsilon: 0.47849\n",
      "Episode: 202, Reward: 26, Epsilon: 0.47727\n",
      "Episode: 203, Reward: 95, Epsilon: 0.47285\n",
      "Episode: 204, Reward: 195, Epsilon: 0.46391\n",
      "Episode: 205, Reward: 200, Epsilon: 0.45492\n"
     ]
    }
   ],
   "source": [
    "### 총 10000번의 에피소드를 진행한다.\n",
    "for episode in range(300):\n",
    "    \n",
    "    total_reward = 0 # 에피소스당 총보상값\n",
    "    \n",
    "    s = env.reset()\n",
    "    \n",
    "    for i in range(200): # 한 에피소드당 최대 200번만 행동한다\n",
    "        \n",
    "        ### 탐험 확률 지정 (1 부터 시작해서 점점 낮아지다 최소값은 1%)\n",
    "        epsilon = 0.01 + (1-0.01)*np.exp(-0.0001*count)\n",
    "        count += 1\n",
    "        \n",
    "        if np.random.rand() < epsilon:\n",
    "            action = env.action_space.sample() # 랜덤 행동\n",
    "        else:\n",
    "            action = np.argmax(model.predict(s.reshape(1,4))[0]) # Q값이 높은 행동 선택\n",
    "            \n",
    "        s2, r, done, _ = env.step(action)\n",
    "        \n",
    "        total_reward += r\n",
    "        \n",
    "        memory.append([s, action, r, done, s2])\n",
    "        \n",
    "        ### 학습 (배치크기는 32)\n",
    "        indices = np.random.choice(len(memory), 32, replace=False)\n",
    "        samples = [memory[i] for i in indices]\n",
    "        \n",
    "        X = np.zeros([32,4]) # 입력 상태값\n",
    "        y = np.zeros([32,2]) # 목표 Q값\n",
    "        \n",
    "        for i, sample in enumerate(samples): # sample -> [s,a,r,done,s2]\n",
    "            X[i] = sample[0]\n",
    "            y[i] = model.predict(sample[0].reshape(1,4))[0]\n",
    "            \n",
    "            if sample[3] == True: # done\n",
    "                y[i][sample[1]] = sample[2]\n",
    "            else:\n",
    "                y[i][sample[1]] = sample[2] + gamma*np.max(model.predict(sample[-1].reshape(1,4))[0])\n",
    "                \n",
    "        model.fit(X, y, epochs=1, verbose=False)\n",
    "        \n",
    "        if done:\n",
    "            break\n",
    "        else:\n",
    "            s = s2\n",
    "            \n",
    "    print('Episode: %d, Reward: %d, Epsilon: %.5f' % (episode+1, total_reward, epsilon))\n",
    "    returns.append(total_reward)\n",
    "    \n",
    "    if total_reward == 200:\n",
    "        break"
   ]
  },
  {
   "cell_type": "code",
   "execution_count": 16,
   "metadata": {},
   "outputs": [
    {
     "data": {
      "text/plain": [
       "(205, 8031)"
      ]
     },
     "execution_count": 16,
     "metadata": {},
     "output_type": "execute_result"
    }
   ],
   "source": [
    "len(returns), len(memory)"
   ]
  },
  {
   "cell_type": "code",
   "execution_count": 17,
   "metadata": {},
   "outputs": [
    {
     "data": {
      "text/plain": [
       "[<matplotlib.lines.Line2D at 0x2b78a628f60>]"
      ]
     },
     "execution_count": 17,
     "metadata": {},
     "output_type": "execute_result"
    },
    {
     "data": {
      "image/png": "[encoded data removed]",
      "text/plain": [
       "<Figure size 432x288 with 1 Axes>"
      ]
     },
     "metadata": {
      "needs_background": "light"
     },
     "output_type": "display_data"
    }
   ],
   "source": [
    "plt.plot(returns)"
   ]
  },
  {
   "cell_type": "code",
   "execution_count": 18,
   "metadata": {},
   "outputs": [
    {
     "name": "stdout",
     "output_type": "stream",
     "text": [
      "Epoch: 1, Count: 150\n",
      "[2.0504329  2.12909596 0.21258107 0.18507069] 1.0 True {}\n",
      "Epoch: 2, Count: 158\n",
      "[2.12959943 2.16991218 0.21370731 0.20810115] 1.0 True {}\n",
      "Epoch: 3, Count: 157\n",
      "[2.29500228 2.35241592 0.21183434 0.16074148] 1.0 True {}\n"
     ]
    }
   ],
   "source": [
    "for epoch in range(3):\n",
    "    env.reset()\n",
    "    \n",
    "    done = False\n",
    "    n = 0\n",
    "    while not done:\n",
    "        #a = np.random.randint(2)\n",
    "        a = np.argmax(model.predict(s.reshape(1,4))[0])\n",
    "        s, r, done, info = env.step(a)\n",
    "        n += 1\n",
    "        env.render()\n",
    "        #print(s, r, done, info)\n",
    "        \n",
    "    print('Epoch: %d, Count: %d' % (epoch+1, n))\n",
    "    print(s, r, done, info)\n",
    "    #input()"
   ]
  },
  {
   "cell_type": "code",
   "execution_count": 19,
   "metadata": {},
   "outputs": [],
   "source": [
    "env.close()"
   ]
  },
  {
   "cell_type": "code",
   "execution_count": null,
   "metadata": {},
   "outputs": [],
   "source": []
  }
 ],
 "metadata": {
  "kernelspec": {
   "display_name": "Python 3",
   "language": "python",
   "name": "python3"
  },
  "language_info": {
   "codemirror_mode": {
    "name": "ipython",
    "version": 3
   },
   "file_extension": ".py",
   "mimetype": "text/x-python",
   "name": "python",
   "nbconvert_exporter": "python",
   "pygments_lexer": "ipython3",
   "version": "3.7.3"
  }
 },
 "nbformat": 4,
 "nbformat_minor": 2
}
