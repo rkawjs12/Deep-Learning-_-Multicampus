{
 "cells": [
  {
   "cell_type": "code",
   "execution_count": 1,
   "metadata": {},
   "outputs": [],
   "source": [
    "import numpy as np\n",
    "import matplotlib.pyplot as plt"
   ]
  },
  {
   "cell_type": "code",
   "execution_count": 2,
   "metadata": {},
   "outputs": [
    {
     "name": "stderr",
     "output_type": "stream",
     "text": [
      "Using TensorFlow backend.\n"
     ]
    }
   ],
   "source": [
    "from keras.datasets import mnist"
   ]
  },
  {
   "cell_type": "code",
   "execution_count": 3,
   "metadata": {},
   "outputs": [],
   "source": [
    "(X_train, y_train), (X_test, y_test) = mnist.load_data()"
   ]
  },
  {
   "cell_type": "code",
   "execution_count": 4,
   "metadata": {},
   "outputs": [
    {
     "data": {
      "text/plain": [
       "((60000, 28, 28), (60000,), (10000, 28, 28), (10000,))"
      ]
     },
     "execution_count": 4,
     "metadata": {},
     "output_type": "execute_result"
    }
   ],
   "source": [
    "X_train.shape, y_train.shape, X_test.shape, y_test.shape"
   ]
  },
  {
   "cell_type": "code",
   "execution_count": 7,
   "metadata": {},
   "outputs": [],
   "source": [
    "from keras.utils import to_categorical\n",
    "\n",
    "X_train = X_train.reshape(-1,28*28)/255.\n",
    "X_test = X_test.reshape(-1,28*28)/255.\n",
    "y_train = to_categorical(y_train)\n",
    "y_test = to_categorical(y_test)"
   ]
  },
  {
   "cell_type": "code",
   "execution_count": 11,
   "metadata": {},
   "outputs": [],
   "source": [
    "from keras.models import Sequential\n",
    "from keras.layers import Dense"
   ]
  },
  {
   "cell_type": "code",
   "execution_count": 13,
   "metadata": {},
   "outputs": [],
   "source": [
    "model = Sequential()\n",
    "model.add(Dense(64, activation='relu', input_shape=(784,))) # 128 노드, ReLU 적용\n",
    "model.add(Dense(16, activation='relu'))\n",
    "model.add(Dense(10, activation='softmax'))"
   ]
  },
  {
   "cell_type": "code",
   "execution_count": 14,
   "metadata": {},
   "outputs": [
    {
     "name": "stdout",
     "output_type": "stream",
     "text": [
      "WARNING:tensorflow:From C:\\Users\\multicampus\\Anaconda3\\lib\\site-packages\\keras\\optimizers.py:793: The name tf.train.Optimizer is deprecated. Please use tf.compat.v1.train.Optimizer instead.\n",
      "\n",
      "WARNING:tensorflow:From C:\\Users\\multicampus\\Anaconda3\\lib\\site-packages\\keras\\backend\\tensorflow_backend.py:3576: The name tf.log is deprecated. Please use tf.math.log instead.\n",
      "\n"
     ]
    }
   ],
   "source": [
    "model.compile(loss='categorical_crossentropy', optimizer='rmsprop', metrics=['acc'])"
   ]
  },
  {
   "cell_type": "code",
   "execution_count": 15,
   "metadata": {},
   "outputs": [
    {
     "name": "stdout",
     "output_type": "stream",
     "text": [
      "WARNING:tensorflow:From C:\\Users\\multicampus\\Anaconda3\\lib\\site-packages\\tensorflow\\python\\ops\\math_grad.py:1250: add_dispatch_support.<locals>.wrapper (from tensorflow.python.ops.array_ops) is deprecated and will be removed in a future version.\n",
      "Instructions for updating:\n",
      "Use tf.where in 2.0, which has the same broadcast rule as np.where\n",
      "WARNING:tensorflow:From C:\\Users\\multicampus\\Anaconda3\\lib\\site-packages\\keras\\backend\\tensorflow_backend.py:1033: The name tf.assign_add is deprecated. Please use tf.compat.v1.assign_add instead.\n",
      "\n",
      "Train on 48000 samples, validate on 12000 samples\n",
      "Epoch 1/20\n",
      "48000/48000 [==============================] - 1s 29us/step - loss: 0.5010 - acc: 0.8629 - val_loss: 0.2368 - val_acc: 0.9323\n",
      "Epoch 2/20\n",
      "48000/48000 [==============================] - 1s 16us/step - loss: 0.2167 - acc: 0.9368 - val_loss: 0.1895 - val_acc: 0.9445\n",
      "Epoch 3/20\n",
      "48000/48000 [==============================] - 1s 19us/step - loss: 0.1688 - acc: 0.9496 - val_loss: 0.1575 - val_acc: 0.9556\n",
      "Epoch 4/20\n",
      "48000/48000 [==============================] - 1s 16us/step - loss: 0.1382 - acc: 0.9593 - val_loss: 0.1399 - val_acc: 0.9585\n",
      "Epoch 5/20\n",
      "48000/48000 [==============================] - 1s 16us/step - loss: 0.1177 - acc: 0.9656 - val_loss: 0.1350 - val_acc: 0.9610\n",
      "Epoch 6/20\n",
      "48000/48000 [==============================] - 1s 17us/step - loss: 0.1026 - acc: 0.9697 - val_loss: 0.1341 - val_acc: 0.9602\n",
      "Epoch 7/20\n",
      "48000/48000 [==============================] - 1s 16us/step - loss: 0.0896 - acc: 0.9742 - val_loss: 0.1181 - val_acc: 0.9652\n",
      "Epoch 8/20\n",
      "48000/48000 [==============================] - 1s 16us/step - loss: 0.0800 - acc: 0.9770 - val_loss: 0.1248 - val_acc: 0.9643\n",
      "Epoch 9/20\n",
      "48000/48000 [==============================] - 1s 15us/step - loss: 0.0713 - acc: 0.9792 - val_loss: 0.1132 - val_acc: 0.9683\n",
      "Epoch 10/20\n",
      "48000/48000 [==============================] - 1s 19us/step - loss: 0.0640 - acc: 0.9812 - val_loss: 0.1076 - val_acc: 0.9695\n",
      "Epoch 11/20\n",
      "48000/48000 [==============================] - 1s 16us/step - loss: 0.0581 - acc: 0.9829 - val_loss: 0.1103 - val_acc: 0.9692\n",
      "Epoch 12/20\n",
      "48000/48000 [==============================] - 1s 16us/step - loss: 0.0522 - acc: 0.9846 - val_loss: 0.1099 - val_acc: 0.9695\n",
      "Epoch 13/20\n",
      "48000/48000 [==============================] - 1s 16us/step - loss: 0.0484 - acc: 0.9856 - val_loss: 0.1094 - val_acc: 0.9699\n",
      "Epoch 14/20\n",
      "48000/48000 [==============================] - 1s 16us/step - loss: 0.0425 - acc: 0.9875 - val_loss: 0.1096 - val_acc: 0.9708\n",
      "Epoch 15/20\n",
      "48000/48000 [==============================] - 1s 16us/step - loss: 0.0390 - acc: 0.9890 - val_loss: 0.1091 - val_acc: 0.9707\n",
      "Epoch 16/20\n",
      "48000/48000 [==============================] - 1s 16us/step - loss: 0.0354 - acc: 0.9898 - val_loss: 0.1142 - val_acc: 0.9714\n",
      "Epoch 17/20\n",
      "48000/48000 [==============================] - 1s 18us/step - loss: 0.0325 - acc: 0.9904 - val_loss: 0.1117 - val_acc: 0.9711\n",
      "Epoch 18/20\n",
      "48000/48000 [==============================] - 1s 16us/step - loss: 0.0297 - acc: 0.9916 - val_loss: 0.1122 - val_acc: 0.9733\n",
      "Epoch 19/20\n",
      "48000/48000 [==============================] - 1s 15us/step - loss: 0.0270 - acc: 0.9926 - val_loss: 0.1248 - val_acc: 0.9693\n",
      "Epoch 20/20\n",
      "48000/48000 [==============================] - 1s 18us/step - loss: 0.0255 - acc: 0.9926 - val_loss: 0.1168 - val_acc: 0.9712\n"
     ]
    }
   ],
   "source": [
    "history = model.fit(X_train, y_train, batch_size=128, epochs=20,\n",
    "                    validation_split=0.2)"
   ]
  },
  {
   "cell_type": "code",
   "execution_count": 16,
   "metadata": {},
   "outputs": [
    {
     "data": {
      "text/plain": [
       "<matplotlib.legend.Legend at 0x2ac08fd16d8>"
      ]
     },
     "execution_count": 16,
     "metadata": {},
     "output_type": "execute_result"
    },
    {
     "data": {
      "image/png": "[encoded data removed]",
      "text/plain": [
       "<Figure size 432x288 with 1 Axes>"
      ]
     },
     "metadata": {
      "needs_background": "light"
     },
     "output_type": "display_data"
    }
   ],
   "source": [
    "plt.plot(history.history['loss'])\n",
    "plt.plot(history.history['val_loss'])\n",
    "plt.title('Loss')\n",
    "plt.xlabel('epoch')\n",
    "plt.legend(['loss','val_loss'])"
   ]
  },
  {
   "cell_type": "code",
   "execution_count": 17,
   "metadata": {},
   "outputs": [
    {
     "data": {
      "text/plain": [
       "<matplotlib.legend.Legend at 0x2ac09055ba8>"
      ]
     },
     "execution_count": 17,
     "metadata": {},
     "output_type": "execute_result"
    },
    {
     "data": {
      "image/png": "[encoded data removed]",
      "text/plain": [
       "<Figure size 432x288 with 1 Axes>"
      ]
     },
     "metadata": {
      "needs_background": "light"
     },
     "output_type": "display_data"
    }
   ],
   "source": [
    "plt.plot(history.history['acc'])\n",
    "plt.plot(history.history['val_acc'])\n",
    "plt.title('Validation Accuracy')\n",
    "plt.xlabel('epoch')\n",
    "plt.legend(['acc','val_acc'])"
   ]
  },
  {
   "cell_type": "code",
   "execution_count": 18,
   "metadata": {},
   "outputs": [],
   "source": [
    "ws = model.get_weights()"
   ]
  },
  {
   "cell_type": "code",
   "execution_count": 19,
   "metadata": {},
   "outputs": [
    {
     "data": {
      "text/plain": [
       "(784, 64)"
      ]
     },
     "execution_count": 19,
     "metadata": {},
     "output_type": "execute_result"
    }
   ],
   "source": [
    "ws[0].shape"
   ]
  },
  {
   "cell_type": "code",
   "execution_count": 20,
   "metadata": {},
   "outputs": [],
   "source": [
    "pred_y = model.predict(X_test)"
   ]
  },
  {
   "cell_type": "code",
   "execution_count": 21,
   "metadata": {},
   "outputs": [
    {
     "data": {
      "text/plain": [
       "array([[5.9958727e-09, 8.2398602e-11, 1.3919062e-06, 1.4621949e-05,\n",
       "        2.8471885e-16, 3.7465480e-14, 2.6247795e-20, 9.9998403e-01,\n",
       "        2.4996709e-09, 6.9096235e-09],\n",
       "       [1.2191098e-09, 4.0565310e-06, 9.9999595e-01, 1.4230375e-09,\n",
       "        1.7463953e-19, 1.4112733e-10, 2.8758183e-11, 2.1104684e-15,\n",
       "        5.4726590e-10, 2.6909646e-20],\n",
       "       [1.7998448e-07, 9.9981433e-01, 4.2284886e-05, 3.0948084e-07,\n",
       "        3.1447216e-06, 1.1173242e-07, 3.3806862e-06, 9.2793765e-05,\n",
       "        4.2794058e-05, 6.1756219e-07],\n",
       "       [9.9996459e-01, 3.0950066e-08, 2.7655808e-06, 3.4601716e-12,\n",
       "        9.6977567e-07, 6.9057999e-09, 3.0406991e-05, 1.3391253e-06,\n",
       "        1.1113639e-11, 1.0444496e-08],\n",
       "       [3.3802390e-08, 8.4103418e-09, 1.2376293e-07, 1.6019374e-08,\n",
       "        9.9951923e-01, 2.2979684e-11, 1.1622145e-08, 2.5018130e-04,\n",
       "        2.6436294e-07, 2.3011872e-04],\n",
       "       [5.2427223e-09, 9.9979252e-01, 9.6509382e-07, 3.1568415e-09,\n",
       "        3.1824385e-07, 1.2502457e-10, 5.8648211e-09, 2.0543323e-04,\n",
       "        5.3863408e-07, 9.1429257e-08],\n",
       "       [1.1601914e-10, 1.9654860e-07, 7.0198250e-11, 1.8746320e-11,\n",
       "        9.9998474e-01, 3.2176328e-11, 2.1227088e-08, 2.4027856e-06,\n",
       "        3.3173558e-06, 9.3476983e-06],\n",
       "       [1.5889527e-10, 5.2384944e-06, 4.1180888e-07, 3.7616938e-03,\n",
       "        9.3407769e-05, 8.6058251e-05, 9.2875230e-13, 3.0687380e-07,\n",
       "        1.3340693e-07, 9.9605274e-01],\n",
       "       [3.8435374e-14, 4.5082333e-09, 1.4325487e-13, 4.6471453e-09,\n",
       "        2.9470485e-07, 9.9339676e-01, 5.8729001e-03, 1.7586544e-16,\n",
       "        1.2254024e-07, 7.2987512e-04],\n",
       "       [3.9402007e-10, 7.6129955e-13, 7.3407343e-11, 7.6106843e-10,\n",
       "        3.3963246e-05, 4.4506946e-13, 6.8291599e-15, 5.1774230e-05,\n",
       "        4.9656166e-05, 9.9986458e-01]], dtype=float32)"
      ]
     },
     "execution_count": 21,
     "metadata": {},
     "output_type": "execute_result"
    }
   ],
   "source": [
    "pred_y[:10]"
   ]
  },
  {
   "cell_type": "code",
   "execution_count": 22,
   "metadata": {},
   "outputs": [],
   "source": [
    "pred_y = model.predict_classes(X_test)"
   ]
  },
  {
   "cell_type": "code",
   "execution_count": 23,
   "metadata": {},
   "outputs": [
    {
     "data": {
      "text/plain": [
       "0.9742"
      ]
     },
     "execution_count": 23,
     "metadata": {},
     "output_type": "execute_result"
    }
   ],
   "source": [
    "(y_test.argmax(axis=1) == pred_y).mean()"
   ]
  },
  {
   "cell_type": "code",
   "execution_count": null,
   "metadata": {},
   "outputs": [],
   "source": []
  }
 ],
 "metadata": {
  "kernelspec": {
   "display_name": "Python 3",
   "language": "python",
   "name": "python3"
  },
  "language_info": {
   "codemirror_mode": {
    "name": "ipython",
    "version": 3
   },
   "file_extension": ".py",
   "mimetype": "text/x-python",
   "name": "python",
   "nbconvert_exporter": "python",
   "pygments_lexer": "ipython3",
   "version": "3.7.3"
  }
 },
 "nbformat": 4,
 "nbformat_minor": 2
}
