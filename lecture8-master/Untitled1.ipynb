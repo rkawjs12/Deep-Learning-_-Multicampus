{
 "cells": [
  {
   "cell_type": "code",
   "execution_count": 28,
   "metadata": {},
   "outputs": [],
   "source": [
    "import numpy as np\n",
    "import matplotlib.pyplot as plt"
   ]
  },
  {
   "cell_type": "code",
   "execution_count": 29,
   "metadata": {},
   "outputs": [],
   "source": [
    "Q = np.zeros((25,4))-10\n",
    "Qs = []\n",
    "gamma = 1."
   ]
  },
  {
   "cell_type": "code",
   "execution_count": 30,
   "metadata": {},
   "outputs": [],
   "source": [
    "walls = [1,6,8,13,15,16,17,18]\n",
    "ds = [-5,5,-1,1]"
   ]
  },
  {
   "cell_type": "code",
   "execution_count": 31,
   "metadata": {},
   "outputs": [],
   "source": [
    "def valid_action(s,a):\n",
    "    if s//5 == 0 and a == 0: return False\n",
    "    if s//5 == 4 and a == 1: return False\n",
    "    if s%5 == 0 and a == 2: return False\n",
    "    if s%5 == 4 and a == 3: return False\n",
    "    if s in walls or (s+ds[a] in walls): return False\n",
    "    return True"
   ]
  },
  {
   "cell_type": "code",
   "execution_count": 32,
   "metadata": {},
   "outputs": [],
   "source": [
    "def get_action(s):\n",
    "    while True:\n",
    "        a = np.random.randint(4)\n",
    "        if valid_action(s,a): break\n",
    "            \n",
    "    return a"
   ]
  },
  {
   "cell_type": "code",
   "execution_count": 33,
   "metadata": {},
   "outputs": [],
   "source": [
    "histories = []\n",
    "\n",
    "for epoch in range(10):\n",
    "    history = []\n",
    "    s = 0\n",
    "    \n",
    "    while True:\n",
    "        a = get_action(s)\n",
    "        s2 = s + ds[a]\n",
    "        history.append([s,a,s2])\n",
    "        s = s2\n",
    "        \n",
    "        if s2 == 24: break\n",
    "            \n",
    "    for h in history:\n",
    "        Q[h[0],h[1]] = 0 + gamma*np.max(Q[h[2]])\n",
    "        \n",
    "    Qs.append(Q.copy())\n",
    "    histories.append(history)"
   ]
  },
  {
   "cell_type": "code",
   "execution_count": 34,
   "metadata": {},
   "outputs": [
    {
     "data": {
      "text/plain": [
       "array([[-10., -10., -10., -10.],\n",
       "       [-10., -10., -10., -10.],\n",
       "       [-10., -10., -10., -10.],\n",
       "       [-10., -10., -10., -10.],\n",
       "       [-10., -10., -10., -10.],\n",
       "       [-10., -10., -10., -10.],\n",
       "       [-10., -10., -10., -10.],\n",
       "       [-10., -10., -10., -10.],\n",
       "       [-10., -10., -10., -10.],\n",
       "       [-10., -10., -10., -10.],\n",
       "       [-10., -10., -10., -10.],\n",
       "       [-10., -10., -10., -10.],\n",
       "       [-10., -10., -10., -10.],\n",
       "       [-10., -10., -10., -10.],\n",
       "       [-10., -10., -10., -10.],\n",
       "       [-10., -10., -10., -10.],\n",
       "       [-10., -10., -10., -10.],\n",
       "       [-10., -10., -10., -10.],\n",
       "       [-10., -10., -10., -10.],\n",
       "       [-10., -10., -10., -10.],\n",
       "       [-10., -10., -10., -10.],\n",
       "       [-10., -10., -10., -10.],\n",
       "       [-10., -10., -10., -10.],\n",
       "       [-10., -10., -10., -10.],\n",
       "       [-10., -10., -10., -10.]])"
      ]
     },
     "execution_count": 34,
     "metadata": {},
     "output_type": "execute_result"
    }
   ],
   "source": [
    "Q"
   ]
  },
  {
   "cell_type": "code",
   "execution_count": 35,
   "metadata": {},
   "outputs": [
    {
     "data": {
      "text/plain": [
       "array([[-10., -10., -10., -10., -10.],\n",
       "       [-10., -10., -10., -10., -10.],\n",
       "       [-10., -10., -10., -10., -10.],\n",
       "       [-10., -10., -10., -10., -10.],\n",
       "       [-10., -10., -10., -10., -10.]])"
      ]
     },
     "execution_count": 35,
     "metadata": {},
     "output_type": "execute_result"
    }
   ],
   "source": [
    "Q.max(axis=1).reshape(5,5)"
   ]
  },
  {
   "cell_type": "code",
   "execution_count": 36,
   "metadata": {},
   "outputs": [
    {
     "data": {
      "text/plain": [
       "<matplotlib.colorbar.Colorbar at 0x21517ecd518>"
      ]
     },
     "execution_count": 36,
     "metadata": {},
     "output_type": "execute_result"
    },
    {
     "data": {
      "image/png": "[encoded data removed]",
      "text/plain": [
       "<Figure size 432x288 with 2 Axes>"
      ]
     },
     "metadata": {
      "needs_background": "light"
     },
     "output_type": "display_data"
    }
   ],
   "source": [
    "plt.imshow(Q.max(axis=1).reshape(5,5))\n",
    "plt.colorbar()"
   ]
  },
  {
   "cell_type": "code",
   "execution_count": 37,
   "metadata": {},
   "outputs": [
    {
     "data": {
      "text/plain": [
       "(10, 25, 4)"
      ]
     },
     "execution_count": 37,
     "metadata": {},
     "output_type": "execute_result"
    }
   ],
   "source": [
    "Qs = np.array(Qs).reshape(-1,25,4)\n",
    "Qs.shape"
   ]
  },
  {
   "cell_type": "code",
   "execution_count": 38,
   "metadata": {},
   "outputs": [
    {
     "data": {
      "text/plain": [
       "[<matplotlib.lines.Line2D at 0x21517f41358>]"
      ]
     },
     "execution_count": 38,
     "metadata": {},
     "output_type": "execute_result"
    },
    {
     "data": {
      "image/png": "[encoded data removed]",
      "text/plain": [
       "<Figure size 432x288 with 1 Axes>"
      ]
     },
     "metadata": {
      "needs_background": "light"
     },
     "output_type": "display_data"
    }
   ],
   "source": [
    "plt.plot(Qs.max(axis=2)[:,0])"
   ]
  },
  {
   "cell_type": "code",
   "execution_count": null,
   "metadata": {},
   "outputs": [],
   "source": []
  }
 ],
 "metadata": {
  "kernelspec": {
   "display_name": "Python 3",
   "language": "python",
   "name": "python3"
  },
  "language_info": {
   "codemirror_mode": {
    "name": "ipython",
    "version": 3
   },
   "file_extension": ".py",
   "mimetype": "text/x-python",
   "name": "python",
   "nbconvert_exporter": "python",
   "pygments_lexer": "ipython3",
   "version": "3.7.3"
  }
 },
 "nbformat": 4,
 "nbformat_minor": 2
}
