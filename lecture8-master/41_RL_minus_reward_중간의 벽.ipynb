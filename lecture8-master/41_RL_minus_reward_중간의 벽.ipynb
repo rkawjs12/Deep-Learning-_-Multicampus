{
 "cells": [
  {
   "cell_type": "code",
   "execution_count": 4,
   "metadata": {},
   "outputs": [],
   "source": [
    "import numpy as np\n",
    "import matplotlib.pyplot as plt"
   ]
  },
  {
   "cell_type": "code",
   "execution_count": 5,
   "metadata": {},
   "outputs": [],
   "source": [
    "Q = np.zeros([25,4])-10\n",
    "Qs = []\n",
    "gamma = 1."
   ]
  },
  {
   "cell_type": "code",
   "execution_count": 6,
   "metadata": {},
   "outputs": [],
   "source": [
    "walls = [1,6,8,13,15,16,17,18]"
   ]
  },
  {
   "cell_type": "code",
   "execution_count": 7,
   "metadata": {},
   "outputs": [],
   "source": [
    "def valid_action(s,a):\n",
    "    if s//5 == 0 and a == 0: return False\n",
    "    if s//5 == 4 and a == 1: return False\n",
    "    if s%5 == 0 and a == 2: return False\n",
    "    if s%5 == 4 and a == 3: return False\n",
    "    if s in walls or (s+ds[a] in walls): return False\n",
    "    return True\n",
    "    "
   ]
  },
  {
   "cell_type": "code",
   "execution_count": 8,
   "metadata": {},
   "outputs": [],
   "source": [
    "s = 0\n",
    "ds = [-5,5,-1,1]\n",
    "\n",
    "for epoch in range(100):\n",
    "    for s in range(25):\n",
    "        if s==24: # the last(goal) cell\n",
    "            Q[s] = 1\n",
    "            continue\n",
    "            \n",
    "        for a in range(4):\n",
    "            if not valid_action(s,a): continue\n",
    "            s_new = s + ds[a]\n",
    "            Q[s,a] = 0 + gamma*np.max(Q[s_new])\n",
    "         \n",
    "    Qs.append(Q.copy())"
   ]
  },
  {
   "cell_type": "code",
   "execution_count": 9,
   "metadata": {
    "scrolled": true
   },
   "outputs": [
    {
     "data": {
      "text/plain": [
       "array([[-10.,   1., -10., -10.],\n",
       "       [-10., -10., -10., -10.],\n",
       "       [-10.,   1., -10.,   1.],\n",
       "       [-10., -10.,   1.,   1.],\n",
       "       [-10.,   1.,   1., -10.],\n",
       "       [  1.,   1., -10., -10.],\n",
       "       [-10., -10., -10., -10.],\n",
       "       [  1.,   1., -10., -10.],\n",
       "       [-10., -10., -10., -10.],\n",
       "       [  1.,   1., -10., -10.],\n",
       "       [  1., -10., -10.,   1.],\n",
       "       [-10., -10.,   1.,   1.],\n",
       "       [  1., -10.,   1., -10.],\n",
       "       [-10., -10., -10., -10.],\n",
       "       [  1.,   1., -10., -10.],\n",
       "       [-10., -10., -10., -10.],\n",
       "       [-10., -10., -10., -10.],\n",
       "       [-10., -10., -10., -10.],\n",
       "       [-10., -10., -10., -10.],\n",
       "       [  1.,   1., -10., -10.],\n",
       "       [-10., -10., -10.,   1.],\n",
       "       [-10., -10.,   1.,   1.],\n",
       "       [-10., -10.,   1.,   1.],\n",
       "       [-10., -10.,   1.,   1.],\n",
       "       [  1.,   1.,   1.,   1.]])"
      ]
     },
     "execution_count": 9,
     "metadata": {},
     "output_type": "execute_result"
    }
   ],
   "source": [
    "Q"
   ]
  },
  {
   "cell_type": "code",
   "execution_count": 10,
   "metadata": {},
   "outputs": [
    {
     "data": {
      "text/plain": [
       "array([[  1., -10.,   1.,   1.,   1.],\n",
       "       [  1., -10.,   1., -10.,   1.],\n",
       "       [  1.,   1.,   1., -10.,   1.],\n",
       "       [-10., -10., -10., -10.,   1.],\n",
       "       [  1.,   1.,   1.,   1.,   1.]])"
      ]
     },
     "execution_count": 10,
     "metadata": {},
     "output_type": "execute_result"
    }
   ],
   "source": [
    "Q.max(axis=1).reshape(5,5)"
   ]
  },
  {
   "cell_type": "code",
   "execution_count": 11,
   "metadata": {},
   "outputs": [
    {
     "data": {
      "text/plain": [
       "<matplotlib.colorbar.Colorbar at 0x1d7a81cf390>"
      ]
     },
     "execution_count": 11,
     "metadata": {},
     "output_type": "execute_result"
    },
    {
     "data": {
      "image/png": "[encoded data removed]",
      "text/plain": [
       "<Figure size 432x288 with 2 Axes>"
      ]
     },
     "metadata": {
      "needs_background": "light"
     },
     "output_type": "display_data"
    }
   ],
   "source": [
    "plt.imshow(Q.max(axis=1).reshape(5,5))\n",
    "plt.colorbar()"
   ]
  },
  {
   "cell_type": "code",
   "execution_count": 12,
   "metadata": {},
   "outputs": [
    {
     "data": {
      "text/plain": [
       "(100, 25, 4)"
      ]
     },
     "execution_count": 12,
     "metadata": {},
     "output_type": "execute_result"
    }
   ],
   "source": [
    "Qs = np.array(Qs).reshape(-1,25,4)\n",
    "Qs.shape"
   ]
  },
  {
   "cell_type": "code",
   "execution_count": 13,
   "metadata": {},
   "outputs": [
    {
     "data": {
      "text/plain": [
       "[<matplotlib.lines.Line2D at 0x1d7a827db00>]"
      ]
     },
     "execution_count": 13,
     "metadata": {},
     "output_type": "execute_result"
    },
    {
     "data": {
      "image/png": "[encoded data removed]",
      "text/plain": [
       "<Figure size 432x288 with 1 Axes>"
      ]
     },
     "metadata": {
      "needs_background": "light"
     },
     "output_type": "display_data"
    }
   ],
   "source": [
    " "
   ]
  },
  {
   "cell_type": "code",
   "execution_count": null,
   "metadata": {},
   "outputs": [],
   "source": []
  },
  {
   "cell_type": "code",
   "execution_count": null,
   "metadata": {},
   "outputs": [],
   "source": []
  },
  {
   "cell_type": "code",
   "execution_count": null,
   "metadata": {},
   "outputs": [],
   "source": []
  }
 ],
 "metadata": {
  "kernelspec": {
   "display_name": "Python 3",
   "language": "python",
   "name": "python3"
  },
  "language_info": {
   "codemirror_mode": {
    "name": "ipython",
    "version": 3
   },
   "file_extension": ".py",
   "mimetype": "text/x-python",
   "name": "python",
   "nbconvert_exporter": "python",
   "pygments_lexer": "ipython3",
   "version": "3.7.3"
  }
 },
 "nbformat": 4,
 "nbformat_minor": 2
}
