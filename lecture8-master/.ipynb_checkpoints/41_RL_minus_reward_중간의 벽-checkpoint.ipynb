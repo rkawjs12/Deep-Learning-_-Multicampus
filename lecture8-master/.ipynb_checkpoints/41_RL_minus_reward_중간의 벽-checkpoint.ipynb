{
 "cells": [
  {
   "cell_type": "code",
   "execution_count": 1,
   "metadata": {},
   "outputs": [],
   "source": [
    "import numpy as np\n",
    "import matplotlib.pyplot as plt"
   ]
  },
  {
   "cell_type": "code",
   "execution_count": 2,
   "metadata": {},
   "outputs": [],
   "source": [
    "Q = np.zeros([25,4])-10\n",
    "Qs = []\n",
    "gamma = 1."
   ]
  },
  {
   "cell_type": "code",
   "execution_count": 7,
   "metadata": {},
   "outputs": [],
   "source": [
    "def valid_action(s,a):\n",
    "    if s//5 == 0 and a == 0: return False\n",
    "    if s//5 == 4 and a == 1: return False\n",
    "    if s%5 == 0 and a == 2: return False\n",
    "    if s%5 == 4 and a == 3: return False\n",
    "    if s==1 or 6 or 8 or 13 or 15 or 16 or 17 or 18 : return False\n",
    "    return True\n",
    "    "
   ]
  },
  {
   "cell_type": "code",
   "execution_count": null,
   "metadata": {},
   "outputs": [],
   "source": []
  }
 ],
 "metadata": {
  "kernelspec": {
   "display_name": "Python 3",
   "language": "python",
   "name": "python3"
  },
  "language_info": {
   "codemirror_mode": {
    "name": "ipython",
    "version": 3
   },
   "file_extension": ".py",
   "mimetype": "text/x-python",
   "name": "python",
   "nbconvert_exporter": "python",
   "pygments_lexer": "ipython3",
   "version": "3.7.3"
  }
 },
 "nbformat": 4,
 "nbformat_minor": 2
}
