{
 "cells": [
  {
   "cell_type": "markdown",
   "metadata": {},
   "source": [
    "# 카드게임\n",
    "### status\n",
    "1~10 숫자가 적힌 카드 10장이 있다.\n",
    "2장을 랜덤하게 받는다.\n",
    "\n",
    "### action\n",
    "stay or pull\n",
    "\n",
    "### reward\n",
    "stay를 하면 두개의 카드 합을 보상으로 받는다.\n",
    "pull 하면 세개의 카드 합을 보상으로 받는다.\n",
    "\n",
    "하지만 카드의 합이 20을 넘기면 보상을 받지 못한다."
   ]
  },
  {
   "cell_type": "code",
   "execution_count": 63,
   "metadata": {},
   "outputs": [],
   "source": [
    "import numpy as np\n",
    "import pandas as pd\n",
    "import random"
   ]
  },
  {
   "cell_type": "code",
   "execution_count": 77,
   "metadata": {},
   "outputs": [
    {
     "name": "stdout",
     "output_type": "stream",
     "text": [
      "[5, 9]\n",
      "[1, 2, 3, 4, 6, 7, 8, 10]\n",
      "[5, 7, 9]\n",
      "5\n",
      "12\n",
      "20.1\n",
      "0\n"
     ]
    }
   ],
   "source": [
    "    card_all = [1,2,3,4,5,6,7,8,9,10]\n",
    "    card_mine = []\n",
    "    count_pull = 0\n",
    "    \n",
    "    get_card(card_mine, card_all)\n",
    "    pull(card_mine, card_all, count_pull)\n",
    "    reward(card_mine, count_pull)\n",
    "\n"
   ]
  },
  {
   "cell_type": "code",
   "execution_count": 64,
   "metadata": {},
   "outputs": [],
   "source": [
    "def get_card(card_mine, card_all):\n",
    "    \n",
    "    while True :\n",
    "        for i in range(2):\n",
    "            card_mine.append(int(random.random()*10))\n",
    "        \n",
    "        if 0 in card_mine:\n",
    "            index_zero = card_mine.index(0)\n",
    "            card_mine[index_zero] = 1\n",
    "            \n",
    "        a = card_mine[0]\n",
    "        b = card_mine[1]\n",
    "        \n",
    "        if a != b :\n",
    "            del card_all[a-1]\n",
    "            index_b = card_all.index(b)\n",
    "    \n",
    "            del card_all[index_b]\n",
    "            card_mine.sort()\n",
    "    \n",
    "            print(card_mine)\n",
    "            print(card_all)\n",
    "            \n",
    "            break"
   ]
  },
  {
   "cell_type": "code",
   "execution_count": 65,
   "metadata": {},
   "outputs": [],
   "source": [
    "def stay(card_mine):\n",
    "    return card_mine\n",
    "    \n",
    "    "
   ]
  },
  {
   "cell_type": "code",
   "execution_count": 72,
   "metadata": {},
   "outputs": [],
   "source": [
    "def pull(card_mine, card_all, count_pull):\n",
    "    \n",
    "    while True:\n",
    "        \n",
    "        pull_num=int(random.random()*10)\n",
    "        if pull_num in card_all:\n",
    "            card_mine.append(pull_num)\n",
    "            card_mine.sort()\n",
    "            index_pull_num = card_all.index(pull_num)\n",
    "            del card_all[index_pull_num]\n",
    "            count_pull = +1\n",
    "            \n",
    "            print(card_mine)\n",
    "            break\n",
    "            "
   ]
  },
  {
   "cell_type": "code",
   "execution_count": 76,
   "metadata": {},
   "outputs": [],
   "source": [
    "def reward(car_mine, count_pull):\n",
    "    gamma = 0.9\n",
    "    \n",
    "    card_mine_sum = 0\n",
    "    for i, card in enumerate(card_mine):\n",
    "        \n",
    "        if i in [0, 1]:\n",
    "            card_mine_sum += card\n",
    "        else:\n",
    "            card_mine_sum += card * (gamma**(i-1))\n",
    "\n",
    "    if card_mine_sum > 10:\n",
    "        reward = 0\n",
    "    else :\n",
    "        reward = card_mine_sum\n",
    "    \n",
    "    print(reward)\n",
    "    "
   ]
  },
  {
   "cell_type": "code",
   "execution_count": null,
   "metadata": {},
   "outputs": [],
   "source": []
  },
  {
   "cell_type": "code",
   "execution_count": null,
   "metadata": {},
   "outputs": [],
   "source": []
  },
  {
   "cell_type": "code",
   "execution_count": null,
   "metadata": {},
   "outputs": [],
   "source": []
  }
 ],
 "metadata": {
  "kernelspec": {
   "display_name": "Python 3",
   "language": "python",
   "name": "python3"
  },
  "language_info": {
   "codemirror_mode": {
    "name": "ipython",
    "version": 3
   },
   "file_extension": ".py",
   "mimetype": "text/x-python",
   "name": "python",
   "nbconvert_exporter": "python",
   "pygments_lexer": "ipython3",
   "version": "3.7.3"
  }
 },
 "nbformat": 4,
 "nbformat_minor": 2
}
